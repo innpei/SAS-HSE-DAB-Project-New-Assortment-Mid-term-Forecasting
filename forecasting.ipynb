{
 "cells": [
  {
   "cell_type": "code",
   "execution_count": 1,
   "metadata": {},
   "outputs": [],
   "source": [
    "import pandas as pd\n",
    "import numpy as np\n",
    "from sktime.performance_metrics.forecasting import MeanAbsolutePercentageError\n",
    "from sklearn.model_selection import GridSearchCV\n",
    "from sklearn import datasets, ensemble\n",
    "from tqdm import tqdm"
   ]
  },
  {
   "cell_type": "code",
   "execution_count": 2,
   "metadata": {
    "scrolled": true
   },
   "outputs": [],
   "source": [
    "train_df = pd.read_csv(\"train_lt.csv\")\n",
    "sample = pd.read_csv(\"sample_lt.csv\")"
   ]
  },
  {
   "cell_type": "code",
   "execution_count": 3,
   "metadata": {},
   "outputs": [],
   "source": [
    "train_df['date'] = pd.to_datetime(train_df['date'])\n",
    "train_df['years'] = train_df['date'].dt.year\n",
    "train_df['months'] = train_df['date'].dt.month\n",
    "train_df['days'] = train_df['date'].dt.day\n",
    "train_df['week_number'] = train_df['date'].dt.isocalendar().week"
   ]
  },
  {
   "cell_type": "code",
   "execution_count": 4,
   "metadata": {
    "scrolled": false
   },
   "outputs": [
    {
     "data": {
      "text/html": [
       "<div>\n",
       "<style scoped>\n",
       "    .dataframe tbody tr th:only-of-type {\n",
       "        vertical-align: middle;\n",
       "    }\n",
       "\n",
       "    .dataframe tbody tr th {\n",
       "        vertical-align: top;\n",
       "    }\n",
       "\n",
       "    .dataframe thead th {\n",
       "        text-align: right;\n",
       "    }\n",
       "</style>\n",
       "<table border=\"1\" class=\"dataframe\">\n",
       "  <thead>\n",
       "    <tr style=\"text-align: right;\">\n",
       "      <th></th>\n",
       "      <th>id</th>\n",
       "      <th>product_rk</th>\n",
       "      <th>store_location_rk</th>\n",
       "      <th>date</th>\n",
       "      <th>demand</th>\n",
       "      <th>PRODUCT_RK</th>\n",
       "      <th>STORE_LOCATION_RK</th>\n",
       "      <th>PRODUCT_RK_y</th>\n",
       "      <th>PROMO1_FLAG</th>\n",
       "      <th>PROMO2_FLAG</th>\n",
       "      <th>PRICE_REGULAR</th>\n",
       "      <th>PRICE_AFTER_DISC</th>\n",
       "      <th>NUM_CONSULTANT</th>\n",
       "      <th>AUTORIZATION_FLAG</th>\n",
       "      <th>years</th>\n",
       "      <th>months</th>\n",
       "      <th>days</th>\n",
       "      <th>week_number</th>\n",
       "    </tr>\n",
       "  </thead>\n",
       "  <tbody>\n",
       "    <tr>\n",
       "      <th>0</th>\n",
       "      <td>0</td>\n",
       "      <td>22939</td>\n",
       "      <td>425</td>\n",
       "      <td>2019-12-30</td>\n",
       "      <td>NaN</td>\n",
       "      <td>22939</td>\n",
       "      <td>425</td>\n",
       "      <td>22939</td>\n",
       "      <td>0</td>\n",
       "      <td>0</td>\n",
       "      <td>3649.0</td>\n",
       "      <td>2736.75</td>\n",
       "      <td>0</td>\n",
       "      <td>0</td>\n",
       "      <td>2019</td>\n",
       "      <td>12</td>\n",
       "      <td>30</td>\n",
       "      <td>1</td>\n",
       "    </tr>\n",
       "    <tr>\n",
       "      <th>1</th>\n",
       "      <td>1</td>\n",
       "      <td>22939</td>\n",
       "      <td>525</td>\n",
       "      <td>2019-12-30</td>\n",
       "      <td>NaN</td>\n",
       "      <td>22939</td>\n",
       "      <td>525</td>\n",
       "      <td>22939</td>\n",
       "      <td>0</td>\n",
       "      <td>0</td>\n",
       "      <td>3649.0</td>\n",
       "      <td>2371.85</td>\n",
       "      <td>0</td>\n",
       "      <td>1</td>\n",
       "      <td>2019</td>\n",
       "      <td>12</td>\n",
       "      <td>30</td>\n",
       "      <td>1</td>\n",
       "    </tr>\n",
       "    <tr>\n",
       "      <th>2</th>\n",
       "      <td>2</td>\n",
       "      <td>22939</td>\n",
       "      <td>557</td>\n",
       "      <td>2019-12-30</td>\n",
       "      <td>NaN</td>\n",
       "      <td>22939</td>\n",
       "      <td>557</td>\n",
       "      <td>22939</td>\n",
       "      <td>0</td>\n",
       "      <td>0</td>\n",
       "      <td>3649.0</td>\n",
       "      <td>2736.75</td>\n",
       "      <td>0</td>\n",
       "      <td>1</td>\n",
       "      <td>2019</td>\n",
       "      <td>12</td>\n",
       "      <td>30</td>\n",
       "      <td>1</td>\n",
       "    </tr>\n",
       "    <tr>\n",
       "      <th>3</th>\n",
       "      <td>3</td>\n",
       "      <td>22939</td>\n",
       "      <td>562</td>\n",
       "      <td>2019-12-30</td>\n",
       "      <td>NaN</td>\n",
       "      <td>22939</td>\n",
       "      <td>562</td>\n",
       "      <td>22939</td>\n",
       "      <td>0</td>\n",
       "      <td>0</td>\n",
       "      <td>3649.0</td>\n",
       "      <td>2736.75</td>\n",
       "      <td>0</td>\n",
       "      <td>0</td>\n",
       "      <td>2019</td>\n",
       "      <td>12</td>\n",
       "      <td>30</td>\n",
       "      <td>1</td>\n",
       "    </tr>\n",
       "    <tr>\n",
       "      <th>4</th>\n",
       "      <td>4</td>\n",
       "      <td>22939</td>\n",
       "      <td>637</td>\n",
       "      <td>2019-12-30</td>\n",
       "      <td>NaN</td>\n",
       "      <td>22939</td>\n",
       "      <td>637</td>\n",
       "      <td>22939</td>\n",
       "      <td>0</td>\n",
       "      <td>0</td>\n",
       "      <td>3649.0</td>\n",
       "      <td>3101.65</td>\n",
       "      <td>0</td>\n",
       "      <td>0</td>\n",
       "      <td>2019</td>\n",
       "      <td>12</td>\n",
       "      <td>30</td>\n",
       "      <td>1</td>\n",
       "    </tr>\n",
       "  </tbody>\n",
       "</table>\n",
       "</div>"
      ],
      "text/plain": [
       "   id  product_rk  store_location_rk       date  demand  PRODUCT_RK  \\\n",
       "0   0       22939                425 2019-12-30     NaN       22939   \n",
       "1   1       22939                525 2019-12-30     NaN       22939   \n",
       "2   2       22939                557 2019-12-30     NaN       22939   \n",
       "3   3       22939                562 2019-12-30     NaN       22939   \n",
       "4   4       22939                637 2019-12-30     NaN       22939   \n",
       "\n",
       "   STORE_LOCATION_RK  PRODUCT_RK_y  PROMO1_FLAG  PROMO2_FLAG  PRICE_REGULAR  \\\n",
       "0                425         22939            0            0         3649.0   \n",
       "1                525         22939            0            0         3649.0   \n",
       "2                557         22939            0            0         3649.0   \n",
       "3                562         22939            0            0         3649.0   \n",
       "4                637         22939            0            0         3649.0   \n",
       "\n",
       "   PRICE_AFTER_DISC  NUM_CONSULTANT  AUTORIZATION_FLAG  years  months  days  \\\n",
       "0           2736.75               0                  0   2019      12    30   \n",
       "1           2371.85               0                  1   2019      12    30   \n",
       "2           2736.75               0                  1   2019      12    30   \n",
       "3           2736.75               0                  0   2019      12    30   \n",
       "4           3101.65               0                  0   2019      12    30   \n",
       "\n",
       "   week_number  \n",
       "0            1  \n",
       "1            1  \n",
       "2            1  \n",
       "3            1  \n",
       "4            1  "
      ]
     },
     "execution_count": 4,
     "metadata": {},
     "output_type": "execute_result"
    }
   ],
   "source": [
    "train_df.head()"
   ]
  },
  {
   "cell_type": "code",
   "execution_count": 135,
   "metadata": {},
   "outputs": [
    {
     "data": {
      "text/plain": [
       "Text(0, 0.5, 'demand')"
      ]
     },
     "execution_count": 135,
     "metadata": {},
     "output_type": "execute_result"
    },
    {
     "data": {
      "image/png": "[encoded data removed]",
      "text/plain": [
       "<Figure size 720x576 with 2 Axes>"
      ]
     },
     "metadata": {
      "needs_background": "light"
     },
     "output_type": "display_data"
    }
   ],
   "source": [
    "import matplotlib.pyplot as plt\n",
    "fig, (ax0,ax1) = plt.subplots(nrows=2, ncols=1)\n",
    "\n",
    "df_2017 = train_df[train_df['years']==2017]\n",
    "df_2018 = train_df[train_df['years']==2018]\n",
    "\n",
    "d_2017 = df_2017.groupby('date').demand.sum()\n",
    "d_2018 = df_2018.groupby('date').demand.sum()\n",
    "\n",
    "gr1 = d_2017.plot(figsize=(10,8),ax=ax0)\n",
    "gr2 = d_2018.plot(figsize=(10,8),ax=ax1)\n",
    "\n",
    "gr1.set_ylabel('demand')\n",
    "gr2.set_ylabel('demand')"
   ]
  },
  {
   "cell_type": "markdown",
   "metadata": {},
   "source": [
    "## Special Dates"
   ]
  },
  {
   "cell_type": "code",
   "execution_count": 4,
   "metadata": {},
   "outputs": [],
   "source": [
    "def special_dates(df):\n",
    "    \n",
    "    d = {'NewYear':[],\n",
    "         'is_feb14':[],\n",
    "         'is_march8':[],\n",
    "         'is_september1':[],\n",
    "         'is_blackFR':[]}\n",
    "    \n",
    "    for i in tqdm(range(0, len(df))):\n",
    "        row = train_df[df[\"id\"] == i]\n",
    "        #NewYear\n",
    "        if (row['week_number'].values[0] == 52) or (row['week_number'].values[0] == 51):\n",
    "            d['NewYear'].append(1)\n",
    "        else:\n",
    "            d['NewYear'].append(0)\n",
    "            \n",
    "        #is_feb14\n",
    "        if (row['years'].values[0] == 2016 and row['week_number'].values[0] == 6):\n",
    "            d['is_feb14'].append(1)\n",
    "        elif (row['years'].values[0] == 2017 and (row['week_number'].values[0] == 6 or row['week_number'].values[0] == 7)):\n",
    "            d['is_feb14'].append(1)\n",
    "        elif (row['years'].values[0] == 2018 and (row['week_number'].values[0] == 6 or row['week_number'].values[0] == 7)):\n",
    "            d['is_feb14'].append(1)\n",
    "        elif (row['years'].values[0] == 2019 and row['week_number'].values[0] == 7):\n",
    "            d['is_feb14'].append(1)\n",
    "        else:\n",
    "            d['is_feb14'].append(0)\n",
    "            \n",
    "        #is_march\n",
    "        if (row['week_number'].values[0] == 9) or (row['week_number'].values[0] == 10):\n",
    "            d['is_march8'].append(1)\n",
    "        else:\n",
    "            d['is_march8'].append(0)\n",
    "        \n",
    "        #is_september1\n",
    "        if row['week_number'].values[0] == 35:\n",
    "            d['is_september1'].append(1)\n",
    "        else:\n",
    "            d['is_september1'].append(0)\n",
    "        \n",
    "        #is_blackFR\n",
    "        if (row['years'].values[0] == 2016 and row['week_number'].values[0] == 47):\n",
    "            d['is_blackFR'].append(1)\n",
    "        elif (row['years'].values[0] == 2017 and row['week_number'].values[0] == 47):\n",
    "            d['is_blackFR'].append(1)\n",
    "        elif (row['years'].values[0] == 2018 and row['week_number'].values[0] == 47):\n",
    "            d['is_blackFR'].append(1)\n",
    "        elif (row['years'].values[0] == 2019 and row['week_number'].values[0] == 48):\n",
    "            d['is_blackFR'].append(1)\n",
    "        else:\n",
    "            d['is_blackFR'].append(0)\n",
    "                        \n",
    "    return d"
   ]
  },
  {
   "cell_type": "code",
   "execution_count": 5,
   "metadata": {},
   "outputs": [
    {
     "name": "stderr",
     "output_type": "stream",
     "text": [
      "100%|██████████| 282322/282322 [13:17<00:00, 353.89it/s]\n"
     ]
    }
   ],
   "source": [
    "# ny = is_newyear(train_df)\n",
    "# feb14 = is_feb14(train_df)\n",
    "# march8 = is_march8(train_df)\n",
    "# spt = is_september1(train_df)\n",
    "# b_fr = is_blackFR(train_df)\n",
    "sp_dates = special_dates(train_df)\n",
    "\n",
    "train_df[\"NY\"] = sp_dates[\"NewYear\"]\n",
    "train_df[\"F14\"] = sp_dates[\"is_feb14\"]\n",
    "train_df[\"Mar8\"] = sp_dates[\"is_march8\"]\n",
    "train_df[\"Spt1\"] = sp_dates[\"is_september1\"]\n",
    "train_df[\"b_FR\"] = sp_dates[\"is_blackFR\"]"
   ]
  },
  {
   "cell_type": "code",
   "execution_count": 6,
   "metadata": {},
   "outputs": [],
   "source": [
    "t = train_df.dropna(subset=['demand'])\n",
    "t = t.drop(columns=['PRODUCT_RK_y','PRODUCT_RK','store_location_rk'])\n",
    "t = t.fillna(method='ffill')\n",
    "t = t.sort_values(by='date')"
   ]
  },
  {
   "cell_type": "code",
   "execution_count": 7,
   "metadata": {},
   "outputs": [],
   "source": [
    "new_prod = train_df[train_df['demand'].isnull()]\n",
    "new_prod = new_prod.drop(columns=['demand'])\n",
    "new_prod = new_prod.sort_values(by='date')\n",
    "new_prod = new_prod.fillna(method='ffill')\n",
    "new_prod_nolags = new_prod[new_prod['id'].isin(sample['index'])]\n",
    "new_prod_nolags = new_prod_nolags.drop(columns=['store_location_rk','PRODUCT_RK','PRODUCT_RK_y'])"
   ]
  },
  {
   "cell_type": "markdown",
   "metadata": {},
   "source": [
    "## Two-stage forecasting"
   ]
  },
  {
   "cell_type": "code",
   "execution_count": 25,
   "metadata": {},
   "outputs": [
    {
     "data": {
      "text/plain": [
       "count    106.000000\n",
       "mean       0.428515\n",
       "std        0.295090\n",
       "min        0.124945\n",
       "25%        0.233460\n",
       "50%        0.340990\n",
       "75%        0.470604\n",
       "max        1.511504\n",
       "Name: demand, dtype: float64"
      ]
     },
     "execution_count": 25,
     "metadata": {},
     "output_type": "execute_result"
    }
   ],
   "source": [
    "arr = t.groupby('date').demand.mean()\n",
    "arr.describe()\n",
    "# t['demand_by_date'].describe()"
   ]
  },
  {
   "cell_type": "code",
   "execution_count": 28,
   "metadata": {},
   "outputs": [
    {
     "name": "stderr",
     "output_type": "stream",
     "text": [
      "100%|██████████| 178995/178995 [04:21<00:00, 683.89it/s]\n"
     ]
    }
   ],
   "source": [
    "demand_by_date = pd.DataFrame(arr)\n",
    "demand_by_date = demand_by_date.reset_index()\n",
    "new_col = []\n",
    "for i in tqdm(range(len(t))):\n",
    "    date = t.iloc[i]['date']\n",
    "    new_col.append(demand_by_date[demand_by_date['date']==date]['demand'].tolist()[0])"
   ]
  },
  {
   "cell_type": "code",
   "execution_count": 29,
   "metadata": {},
   "outputs": [],
   "source": [
    "t['demand_by_date'] = new_col\n",
    "check = t.demand_by_date > 0.55\n",
    "t['big_demand'] = check.tolist()\n",
    "t['big_demand'] = t['big_demand'].astype(int)"
   ]
  },
  {
   "cell_type": "markdown",
   "metadata": {},
   "source": [
    "#### First-stage"
   ]
  },
  {
   "cell_type": "code",
   "execution_count": 30,
   "metadata": {},
   "outputs": [],
   "source": [
    "from sklearn.model_selection import train_test_split\n",
    "# t_nolags = t.drop(columns=['lag_store_52','lag_store_53','lag_store_54','lag_prod_52','lag_prod_53'])\n",
    "t2 = t.dropna()\n",
    "new_prod2 = new_prod2.fillna(0)\n",
    "X_first = t2.drop(columns=['demand','id','date','demand_by_date','big_demand'])\n",
    "y_first = t2['big_demand']\n",
    "X_train, X_test, y_train, y_test = train_test_split(X_first, y_first, test_size=0.33, random_state=42,shuffle=False)"
   ]
  },
  {
   "cell_type": "code",
   "execution_count": 31,
   "metadata": {},
   "outputs": [
    {
     "data": {
      "text/plain": [
       "GradientBoostingClassifier(learning_rate=0.01, max_depth=7, n_estimators=500)"
      ]
     },
     "execution_count": 31,
     "metadata": {},
     "output_type": "execute_result"
    }
   ],
   "source": [
    "from sklearn import datasets, ensemble\n",
    "# define the model parameters\n",
    "params = {'n_estimators': 500,\n",
    "          'max_depth': 7,\n",
    "          'min_samples_split': 2,\n",
    "          'learning_rate': 0.01,\n",
    "          'loss': 'deviance'}\n",
    "model = ensemble.GradientBoostingClassifier(**params)\n",
    "model.fit(X_first, y_first)"
   ]
  },
  {
   "cell_type": "code",
   "execution_count": null,
   "metadata": {},
   "outputs": [],
   "source": [
    "# #Hyperparameter tuning and fitting of gradient boosting\n",
    "# regr = GridSearchCV(ensemble.GradientBoostingClassifier(),\n",
    "#                      {\n",
    "#                          'n_estimators':[450,500,600],\n",
    "#                          'max_depth':np.arange(5,7), \n",
    "#                          'min_samples_split':[2,5],\n",
    "#                          'learning_rate':[0.01]\n",
    "#                      }, cv=5,n_jobs=-1,scoring=\"neg_mean_absolute_percentage_error\"\n",
    "# )\n",
    "# regr.fit(X,y)\n",
    "# print('Best training score:', regr.best_score_)\n",
    "# print('Best estimators:', regr.best_estimator_)\n",
    "# best_regr = regr.best_estimator_\n",
    "# # print(\"Gradient Boosting test f1 score: \",f1_score(y_test,best_svc.predict(X_test)))"
   ]
  },
  {
   "cell_type": "code",
   "execution_count": 62,
   "metadata": {},
   "outputs": [],
   "source": [
    "\n",
    "\n",
    "\n",
    "if_high_sales = (X_res.months == 11) | (X_res.months == 12) | (X_res.months == 3)\n",
    "if_high_sales = if_high_sales.tolist()\n",
    "for i in range(len(if_high_sales)):\n",
    "    if if_high_sales[i] == True:\n",
    "        fs_res[i] = 1\n",
    "    if (X_res['NY'].iloc[i] == 1) | (X_res['F14'].iloc[i] == 1) | (X_res['Mar8'].iloc[i] == 1) | (X_res['Spt1'].iloc[i] == 1) | (X_res['b_FR'].iloc[i] == 1):\n",
    "        fs_res[i] = 1\n",
    "    \n"
   ]
  },
  {
   "cell_type": "code",
   "execution_count": 33,
   "metadata": {},
   "outputs": [],
   "source": [
    "X_res = new_prod2.drop(columns=['id','date'])\n",
    "fs_res = model.predict(X_res)\n",
    "X_res['big_demand'] = fs_res\n",
    "big = X_res[X_res['big_demand']==1]\n",
    "small = X_res[X_res['big_demand']==0]"
   ]
  },
  {
   "cell_type": "markdown",
   "metadata": {},
   "source": [
    "#### Second-stage"
   ]
  },
  {
   "cell_type": "code",
   "execution_count": 35,
   "metadata": {},
   "outputs": [],
   "source": [
    "t_big = t2[t2['big_demand']==1]\n",
    "X_big = t_big.drop(columns=['demand','id','date','demand_by_date','big_demand'])\n",
    "y_big = t_big['demand']"
   ]
  },
  {
   "cell_type": "code",
   "execution_count": 36,
   "metadata": {},
   "outputs": [],
   "source": [
    "X_train, X_test, y_train, y_test = train_test_split(X_big, y_big, test_size=0.33, random_state=42,shuffle=False)"
   ]
  },
  {
   "cell_type": "code",
   "execution_count": 39,
   "metadata": {},
   "outputs": [
    {
     "data": {
      "text/plain": [
       "GradientBoostingRegressor(learning_rate=0.01, loss='lad', max_depth=5,\n",
       "                          n_estimators=500)"
      ]
     },
     "execution_count": 39,
     "metadata": {},
     "output_type": "execute_result"
    }
   ],
   "source": [
    "from sklearn import datasets, ensemble\n",
    "# define the model parameters\n",
    "params = {'n_estimators': 500,\n",
    "          'max_depth': 5,\n",
    "          'min_samples_split': 2,\n",
    "          'learning_rate': 0.01,\n",
    "          'loss': 'lad'}\n",
    "regr_big = ensemble.GradientBoostingRegressor(**params)\n",
    "regr_big.fit(X_big, y_big)"
   ]
  },
  {
   "cell_type": "code",
   "execution_count": 38,
   "metadata": {},
   "outputs": [
    {
     "data": {
      "text/plain": [
       "0.6511277440809008"
      ]
     },
     "execution_count": 38,
     "metadata": {},
     "output_type": "execute_result"
    }
   ],
   "source": [
    "smape_loss = MeanAbsolutePercentageError()\n",
    "y_pred = regr_big.predict(X_test)\n",
    "for i in range(len(y_pred)):\n",
    "    if y_pred[i] <0:\n",
    "        y_pred[i] = 0\n",
    "y_test = y_test.reset_index()\n",
    "y_test = y_test.drop(columns=['index'])\n",
    "y_test = y_test['demand']\n",
    "y_pred = pd.Series(y_pred)\n",
    "smape_loss(y_pred, y_test)"
   ]
  },
  {
   "cell_type": "code",
   "execution_count": 35,
   "metadata": {},
   "outputs": [],
   "source": [
    "# #Hyperparameter tuning and fitting of gradient boosting\n",
    "# regr_big = GridSearchCV(ensemble.GradientBoostingRegressor(),\n",
    "#                      {\n",
    "#                          'n_estimators':[500,600],\n",
    "#                          'max_depth':np.arange(5,7), \n",
    "#                          'min_samples_split':[2,5],\n",
    "#                          'learning_rate':[0.01]\n",
    "#                      }, cv=5,n_jobs=-1,scoring=\"neg_mean_absolute_percentage_error\"\n",
    "# )\n",
    "# regr_big.fit(X_big,y_big)\n",
    "# print('Best training score:', regr_big.best_score_)\n",
    "# print('Best estimators:', regr_big.best_estimator_)\n",
    "\n",
    "# # print(\"Gradient Boosting test f1 score: \",f1_score(y_test,best_svc.predict(X_test)))"
   ]
  },
  {
   "cell_type": "code",
   "execution_count": 205,
   "metadata": {},
   "outputs": [],
   "source": [
    "best_regr_big = regr_big.best_estimator_"
   ]
  },
  {
   "cell_type": "code",
   "execution_count": 40,
   "metadata": {},
   "outputs": [],
   "source": [
    "big = big.drop(columns=['big_demand'])\n",
    "pred_big = regr_big.predict(big)\n",
    "for i in range(len(pred_big)):\n",
    "    if pred_big[i] <0:\n",
    "        pred_big[i] = 0\n",
    "big['pred'] = pred_big"
   ]
  },
  {
   "cell_type": "code",
   "execution_count": 229,
   "metadata": {},
   "outputs": [],
   "source": [
    "#assign fixed value to small demands\n",
    "const = 0.1\n",
    "pred_sm = [const]*len(small)\n",
    "small['pred'] = pred_sm"
   ]
  },
  {
   "cell_type": "code",
   "execution_count": 41,
   "metadata": {},
   "outputs": [
    {
     "data": {
      "text/plain": [
       "GradientBoostingRegressor(learning_rate=0.01, loss='lad', max_depth=5,\n",
       "                          n_estimators=500)"
      ]
     },
     "execution_count": 41,
     "metadata": {},
     "output_type": "execute_result"
    }
   ],
   "source": [
    "#or Regress the small demands\n",
    "t_small = t2[t2['big_demand']==0]\n",
    "X_small = t_small.drop(columns=['demand','id','date','demand_by_date','big_demand'])\n",
    "y_small = t_small['demand']\n",
    "\n",
    "params = {'n_estimators': 500,\n",
    "          'max_depth': 5,\n",
    "          'min_samples_split': 2,\n",
    "          'learning_rate': 0.01,\n",
    "          'loss': 'lad'}\n",
    "regr_small = ensemble.GradientBoostingRegressor(**params)\n",
    "regr_small.fit(X_small, y_small)"
   ]
  },
  {
   "cell_type": "code",
   "execution_count": 207,
   "metadata": {},
   "outputs": [
    {
     "name": "stdout",
     "output_type": "stream",
     "text": [
      "Best training score: -31860477737568.05\n",
      "Best estimators: GradientBoostingRegressor(learning_rate=0.01, max_depth=5, n_estimators=500)\n"
     ]
    }
   ],
   "source": [
    "t_small = t_nolags[t_nolags['big_demand']==0]\n",
    "X_small = t_small.drop(columns=['demand','id','date','demand_by_date','big_demand'])\n",
    "y_small = t_small['demand']\n",
    "\n",
    "regr_small = GridSearchCV(ensemble.GradientBoostingRegressor(),\n",
    "                     {\n",
    "                         'n_estimators':[500,600],\n",
    "                         'max_depth':np.arange(5,7), \n",
    "                         'min_samples_split':[2,5],\n",
    "                         'learning_rate':[0.01]\n",
    "                     }, cv=5,n_jobs=-1,scoring=\"neg_mean_absolute_percentage_error\"\n",
    ")\n",
    "regr_small.fit(X_small,y_small)\n",
    "print('Best training score:', regr_small.best_score_)\n",
    "print('Best estimators:', regr_small.best_estimator_)\n",
    "best_regr_sm = regr_small.best_estimator_"
   ]
  },
  {
   "cell_type": "code",
   "execution_count": 42,
   "metadata": {},
   "outputs": [],
   "source": [
    "small = small.drop(columns=['big_demand'])\n",
    "pred_sm = regr_small.predict(small)\n",
    "for i in range(len(pred_sm)):\n",
    "    if pred_sm[i] <0:\n",
    "        pred_sm[i] = 0\n",
    "small['pred'] = pred_sm"
   ]
  },
  {
   "cell_type": "code",
   "execution_count": 43,
   "metadata": {
    "scrolled": true
   },
   "outputs": [
    {
     "name": "stderr",
     "output_type": "stream",
     "text": [
      "100%|██████████| 26605/26605 [00:23<00:00, 1123.46it/s]\n"
     ]
    }
   ],
   "source": [
    "final_new = pd.concat([small,big])\n",
    "final_new = final_new.reset_index()\n",
    "# final_new[final_new['index']==183536]['pred']\n",
    "\n",
    "not_2019 = set(sample[~sample['index'].isin(final_new['index'])]['index'])\n",
    "\n",
    "d = dict()\n",
    "keys = list(sample['index'])\n",
    "for i in tqdm(keys):\n",
    "    if i in not_2019:\n",
    "        d[i] = list(train_df[train_df['id']==i]['demand'])\n",
    "    else:\n",
    "        d[i] = list(final_new[final_new['index']==i]['pred'])\n"
   ]
  },
  {
   "cell_type": "code",
   "execution_count": 44,
   "metadata": {},
   "outputs": [
    {
     "data": {
      "text/html": [
       "<div>\n",
       "<style scoped>\n",
       "    .dataframe tbody tr th:only-of-type {\n",
       "        vertical-align: middle;\n",
       "    }\n",
       "\n",
       "    .dataframe tbody tr th {\n",
       "        vertical-align: top;\n",
       "    }\n",
       "\n",
       "    .dataframe thead th {\n",
       "        text-align: right;\n",
       "    }\n",
       "</style>\n",
       "<table border=\"1\" class=\"dataframe\">\n",
       "  <thead>\n",
       "    <tr style=\"text-align: right;\">\n",
       "      <th></th>\n",
       "      <th>demand</th>\n",
       "    </tr>\n",
       "    <tr>\n",
       "      <th>index</th>\n",
       "      <th></th>\n",
       "    </tr>\n",
       "  </thead>\n",
       "  <tbody>\n",
       "    <tr>\n",
       "      <th>9</th>\n",
       "      <td>0.869903</td>\n",
       "    </tr>\n",
       "    <tr>\n",
       "      <th>148</th>\n",
       "      <td>0.972586</td>\n",
       "    </tr>\n",
       "    <tr>\n",
       "      <th>214</th>\n",
       "      <td>0.215491</td>\n",
       "    </tr>\n",
       "    <tr>\n",
       "      <th>10</th>\n",
       "      <td>0.023217</td>\n",
       "    </tr>\n",
       "    <tr>\n",
       "      <th>13</th>\n",
       "      <td>0.330574</td>\n",
       "    </tr>\n",
       "    <tr>\n",
       "      <th>...</th>\n",
       "      <td>...</td>\n",
       "    </tr>\n",
       "    <tr>\n",
       "      <th>282317</th>\n",
       "      <td>1.000219</td>\n",
       "    </tr>\n",
       "    <tr>\n",
       "      <th>282318</th>\n",
       "      <td>1.001266</td>\n",
       "    </tr>\n",
       "    <tr>\n",
       "      <th>282319</th>\n",
       "      <td>1.321746</td>\n",
       "    </tr>\n",
       "    <tr>\n",
       "      <th>282320</th>\n",
       "      <td>1.019081</td>\n",
       "    </tr>\n",
       "    <tr>\n",
       "      <th>282321</th>\n",
       "      <td>1.013956</td>\n",
       "    </tr>\n",
       "  </tbody>\n",
       "</table>\n",
       "<p>26605 rows × 1 columns</p>\n",
       "</div>"
      ],
      "text/plain": [
       "          demand\n",
       "index           \n",
       "9       0.869903\n",
       "148     0.972586\n",
       "214     0.215491\n",
       "10      0.023217\n",
       "13      0.330574\n",
       "...          ...\n",
       "282317  1.000219\n",
       "282318  1.001266\n",
       "282319  1.321746\n",
       "282320  1.019081\n",
       "282321  1.013956\n",
       "\n",
       "[26605 rows x 1 columns]"
      ]
     },
     "execution_count": 44,
     "metadata": {},
     "output_type": "execute_result"
    }
   ],
   "source": [
    "sam_res = pd.DataFrame.from_dict(d, orient='index')\n",
    "# sam_res = sam_res.reset_index()\n",
    "sam_res.index.name = 'index'\n",
    "sam_res['demand'] = sam_res[0]\n",
    "sam_res = sam_res.drop(columns=[0])\n",
    "sam_res.to_csv('predicted_demand.csv')\n",
    "sam_res"
   ]
  },
  {
   "cell_type": "markdown",
   "metadata": {},
   "source": [
    "## Lagged features"
   ]
  },
  {
   "cell_type": "code",
   "execution_count": 17,
   "metadata": {},
   "outputs": [],
   "source": [
    "def store_lag(df):\n",
    "    d = {'lag_store_52':[],\n",
    "         'lag_store_53':[],\n",
    "         'lag_store_54':[]}\n",
    "#         'lag_store_55':[],\n",
    "#         'lag_store_56':[],\n",
    "#         'lag_store_57':[],\n",
    "#         'lag_store_58':[],\n",
    "#         'lag_store_59':[],\n",
    "#         'lag_store_60':[]}\n",
    "\n",
    "    keys = list(d.keys())\n",
    "    for index, row in tqdm(df.iterrows()): #take a row\n",
    "        store_df = t[t['STORE_LOCATION_RK']==row['STORE_LOCATION_RK']] #take all rows in train with the same store id\n",
    "        \n",
    "        for i in range(3):\n",
    "            week_num = row['week_number']-2 #week_num = 23 2018 year 1-22 weeks + 2017 year 23-52 weeks\n",
    "            year = row['years']-1\n",
    "            if week_num <= 0:\n",
    "                year -= 1 #2016\n",
    "                week_num = 52+week_num \n",
    "            \n",
    "            sub1 = store_df[(store_df['years'] > year) & (store_df['week_number'] < row['week_number'])]\n",
    "            sub2 = store_df[(store_df['years'] == year) & (store_df['week_number'] >=week_num)]\n",
    "            all_needed = pd.concat([sub1,sub2]).groupby('date').demand.mean() #for each day in this sub dataframe, calculate demand mean\n",
    "            d[keys[i]].append(all_needed.mean())\n",
    "#             subset = store_df[(store_df['years']==year) & (store_df['week_number']==week_num)]\n",
    "#             d[keys[i]].append(subset['demand'].mean())\n",
    "    return d\n",
    "#         product_df = \n",
    "\n",
    "\n",
    "# 2018.09.01 store=200"
   ]
  },
  {
   "cell_type": "code",
   "execution_count": 57,
   "metadata": {},
   "outputs": [],
   "source": [
    "def prod_lag(df):\n",
    "    d = {'lag_prod_52':[],\n",
    "        'lag_prod_53':[]}\n",
    "#         'lag_prod_54':[]}\n",
    "#         'lag_prod_55':[],\n",
    "#         'lag_prod_56':[],\n",
    "#         'lag_prod_57':[],\n",
    "#         'lag_prod_58':[],\n",
    "#         'lag_prod_59':[],\n",
    "#         'lag_prod_60':[]}\n",
    "\n",
    "    keys = list(d.keys())\n",
    "    for index, row in tqdm(df.iterrows()):\n",
    "        prod_df = t[t['product_rk']==row['product_rk']]\n",
    "        \n",
    "        for i in range(2):\n",
    "            week_num = row['week_number']-i\n",
    "            year = row['years']-1\n",
    "            if week_num <= 0:\n",
    "                year -= 1\n",
    "                week_num = 52+week_num\n",
    "                \n",
    "#             p_idx = prod_df.years > year\n",
    "#             sub1 = prod_df[p_idx]\n",
    "            sub1 = prod_df[(prod_df['years'] > year) & (prod_df['week_number'] < row['week_number'])]\n",
    "            sub2 = prod_df[(prod_df['years'] == year) & (prod_df['week_number'] >=week_num)]\n",
    "            all_needed = pd.concat([sub1,sub2]).groupby('date').demand.mean()\n",
    "            d[keys[i]].append(all_needed.mean())\n",
    "            \n",
    "#             subset = prod_df[(prod_df['years']==year) & (prod_df['week_number']==week_num)]\n",
    "#             d[keys[i]].append(subset['demand'].mean())\n",
    "    return d\n",
    "#         product_df = "
   ]
  },
  {
   "cell_type": "code",
   "execution_count": 18,
   "metadata": {},
   "outputs": [
    {
     "name": "stderr",
     "output_type": "stream",
     "text": [
      "25824it [16:12, 26.56it/s]\n"
     ]
    }
   ],
   "source": [
    "d_new_prod = store_lag(new_prod_nolags)"
   ]
  },
  {
   "cell_type": "code",
   "execution_count": 19,
   "metadata": {},
   "outputs": [
    {
     "name": "stderr",
     "output_type": "stream",
     "text": [
      "178995it [2:04:36, 23.94it/s]\n"
     ]
    }
   ],
   "source": [
    "d_t = store_lag(t)"
   ]
  },
  {
   "cell_type": "code",
   "execution_count": 20,
   "metadata": {},
   "outputs": [],
   "source": [
    "new_prod2 = new_prod_nolags\n",
    "for key in d_t:\n",
    "    t[key] = d_t[key]\n",
    "    new_prod2[key] = d_new_prod[key]"
   ]
  },
  {
   "cell_type": "code",
   "execution_count": 114,
   "metadata": {},
   "outputs": [],
   "source": [
    "t2['lag_store_52'] = t['lag_store_52']\n",
    "t2['lag_store_53'] = t['lag_store_53']\n",
    "t2['lag_store_54'] = t['lag_store_54']"
   ]
  },
  {
   "cell_type": "code",
   "execution_count": 58,
   "metadata": {
    "scrolled": true
   },
   "outputs": [
    {
     "name": "stderr",
     "output_type": "stream",
     "text": [
      "178995it [36:06, 82.63it/s]\n",
      "25824it [04:51, 88.70it/s]\n"
     ]
    }
   ],
   "source": [
    "p_t = prod_lag(t)\n",
    "p_new_prod = prod_lag(new_prod2)"
   ]
  },
  {
   "cell_type": "code",
   "execution_count": 59,
   "metadata": {},
   "outputs": [],
   "source": [
    "for key in p_t:\n",
    "    t[key] = p_t[key]\n",
    "    new_prod2[key] = p_new_prod[key]"
   ]
  },
  {
   "cell_type": "code",
   "execution_count": 115,
   "metadata": {},
   "outputs": [],
   "source": [
    "# t2 = t.fillna(0)\n",
    "t2 = t2.dropna()\n",
    "new_prod2 = new_prod2.fillna(0)"
   ]
  },
  {
   "cell_type": "markdown",
   "metadata": {},
   "source": [
    "## Original"
   ]
  },
  {
   "cell_type": "code",
   "execution_count": 80,
   "metadata": {},
   "outputs": [],
   "source": [
    "t2 = t"
   ]
  },
  {
   "cell_type": "code",
   "execution_count": 118,
   "metadata": {},
   "outputs": [],
   "source": [
    "from sklearn.model_selection import train_test_split\n",
    "X = t2.drop(columns=['demand','id','date'])\n",
    "y = t2['demand']\n",
    "X_train, X_test, y_train, y_test = train_test_split(X, y, test_size=0.33, random_state=42,shuffle=False)"
   ]
  },
  {
   "cell_type": "code",
   "execution_count": 128,
   "metadata": {},
   "outputs": [
    {
     "data": {
      "text/html": [
       "<div>\n",
       "<style scoped>\n",
       "    .dataframe tbody tr th:only-of-type {\n",
       "        vertical-align: middle;\n",
       "    }\n",
       "\n",
       "    .dataframe tbody tr th {\n",
       "        vertical-align: top;\n",
       "    }\n",
       "\n",
       "    .dataframe thead th {\n",
       "        text-align: right;\n",
       "    }\n",
       "</style>\n",
       "<table border=\"1\" class=\"dataframe\">\n",
       "  <thead>\n",
       "    <tr style=\"text-align: right;\">\n",
       "      <th></th>\n",
       "      <th>product_rk</th>\n",
       "      <th>STORE_LOCATION_RK</th>\n",
       "      <th>PROMO1_FLAG</th>\n",
       "      <th>PROMO2_FLAG</th>\n",
       "      <th>PRICE_REGULAR</th>\n",
       "      <th>PRICE_AFTER_DISC</th>\n",
       "      <th>NUM_CONSULTANT</th>\n",
       "      <th>AUTORIZATION_FLAG</th>\n",
       "      <th>years</th>\n",
       "      <th>months</th>\n",
       "      <th>days</th>\n",
       "      <th>week_number</th>\n",
       "      <th>NY</th>\n",
       "      <th>F14</th>\n",
       "      <th>Mar8</th>\n",
       "      <th>Spt1</th>\n",
       "      <th>b_FR</th>\n",
       "      <th>lag_store_54</th>\n",
       "      <th>lag_store_52</th>\n",
       "      <th>lag_store_53</th>\n",
       "    </tr>\n",
       "  </thead>\n",
       "  <tbody>\n",
       "    <tr>\n",
       "      <th>51670</th>\n",
       "      <td>37553</td>\n",
       "      <td>1005</td>\n",
       "      <td>1</td>\n",
       "      <td>1</td>\n",
       "      <td>3499.000000</td>\n",
       "      <td>1749.500000</td>\n",
       "      <td>0</td>\n",
       "      <td>1</td>\n",
       "      <td>2016</td>\n",
       "      <td>12</td>\n",
       "      <td>26</td>\n",
       "      <td>52</td>\n",
       "      <td>1</td>\n",
       "      <td>0</td>\n",
       "      <td>0</td>\n",
       "      <td>0</td>\n",
       "      <td>0</td>\n",
       "      <td>0.369063</td>\n",
       "      <td>0.369063</td>\n",
       "      <td>0.369063</td>\n",
       "    </tr>\n",
       "    <tr>\n",
       "      <th>249270</th>\n",
       "      <td>34978</td>\n",
       "      <td>1281</td>\n",
       "      <td>1</td>\n",
       "      <td>0</td>\n",
       "      <td>3349.000000</td>\n",
       "      <td>1674.500000</td>\n",
       "      <td>0</td>\n",
       "      <td>1</td>\n",
       "      <td>2016</td>\n",
       "      <td>12</td>\n",
       "      <td>26</td>\n",
       "      <td>52</td>\n",
       "      <td>1</td>\n",
       "      <td>0</td>\n",
       "      <td>0</td>\n",
       "      <td>0</td>\n",
       "      <td>0</td>\n",
       "      <td>0.678936</td>\n",
       "      <td>0.678936</td>\n",
       "      <td>0.678936</td>\n",
       "    </tr>\n",
       "    <tr>\n",
       "      <th>249254</th>\n",
       "      <td>34978</td>\n",
       "      <td>1203</td>\n",
       "      <td>1</td>\n",
       "      <td>0</td>\n",
       "      <td>3134.714286</td>\n",
       "      <td>1567.357143</td>\n",
       "      <td>0</td>\n",
       "      <td>1</td>\n",
       "      <td>2016</td>\n",
       "      <td>12</td>\n",
       "      <td>26</td>\n",
       "      <td>52</td>\n",
       "      <td>1</td>\n",
       "      <td>0</td>\n",
       "      <td>0</td>\n",
       "      <td>0</td>\n",
       "      <td>0</td>\n",
       "      <td>0.312705</td>\n",
       "      <td>0.312705</td>\n",
       "      <td>0.312705</td>\n",
       "    </tr>\n",
       "    <tr>\n",
       "      <th>249237</th>\n",
       "      <td>34978</td>\n",
       "      <td>1191</td>\n",
       "      <td>1</td>\n",
       "      <td>0</td>\n",
       "      <td>3427.571429</td>\n",
       "      <td>2144.371429</td>\n",
       "      <td>0</td>\n",
       "      <td>1</td>\n",
       "      <td>2016</td>\n",
       "      <td>12</td>\n",
       "      <td>26</td>\n",
       "      <td>52</td>\n",
       "      <td>1</td>\n",
       "      <td>0</td>\n",
       "      <td>0</td>\n",
       "      <td>0</td>\n",
       "      <td>0</td>\n",
       "      <td>0.276173</td>\n",
       "      <td>0.276173</td>\n",
       "      <td>0.276173</td>\n",
       "    </tr>\n",
       "    <tr>\n",
       "      <th>249162</th>\n",
       "      <td>34978</td>\n",
       "      <td>866</td>\n",
       "      <td>1</td>\n",
       "      <td>0</td>\n",
       "      <td>3349.000000</td>\n",
       "      <td>1674.500000</td>\n",
       "      <td>0</td>\n",
       "      <td>1</td>\n",
       "      <td>2016</td>\n",
       "      <td>12</td>\n",
       "      <td>26</td>\n",
       "      <td>52</td>\n",
       "      <td>1</td>\n",
       "      <td>0</td>\n",
       "      <td>0</td>\n",
       "      <td>0</td>\n",
       "      <td>0</td>\n",
       "      <td>0.353527</td>\n",
       "      <td>0.353527</td>\n",
       "      <td>0.353527</td>\n",
       "    </tr>\n",
       "    <tr>\n",
       "      <th>...</th>\n",
       "      <td>...</td>\n",
       "      <td>...</td>\n",
       "      <td>...</td>\n",
       "      <td>...</td>\n",
       "      <td>...</td>\n",
       "      <td>...</td>\n",
       "      <td>...</td>\n",
       "      <td>...</td>\n",
       "      <td>...</td>\n",
       "      <td>...</td>\n",
       "      <td>...</td>\n",
       "      <td>...</td>\n",
       "      <td>...</td>\n",
       "      <td>...</td>\n",
       "      <td>...</td>\n",
       "      <td>...</td>\n",
       "      <td>...</td>\n",
       "      <td>...</td>\n",
       "      <td>...</td>\n",
       "      <td>...</td>\n",
       "    </tr>\n",
       "    <tr>\n",
       "      <th>37754</th>\n",
       "      <td>32814</td>\n",
       "      <td>874</td>\n",
       "      <td>1</td>\n",
       "      <td>0</td>\n",
       "      <td>3600.000000</td>\n",
       "      <td>2700.000000</td>\n",
       "      <td>0</td>\n",
       "      <td>1</td>\n",
       "      <td>2018</td>\n",
       "      <td>12</td>\n",
       "      <td>31</td>\n",
       "      <td>1</td>\n",
       "      <td>0</td>\n",
       "      <td>0</td>\n",
       "      <td>0</td>\n",
       "      <td>0</td>\n",
       "      <td>0</td>\n",
       "      <td>0.869504</td>\n",
       "      <td>0.293320</td>\n",
       "      <td>0.869504</td>\n",
       "    </tr>\n",
       "    <tr>\n",
       "      <th>3447</th>\n",
       "      <td>22962</td>\n",
       "      <td>657</td>\n",
       "      <td>0</td>\n",
       "      <td>0</td>\n",
       "      <td>3849.000000</td>\n",
       "      <td>2501.850000</td>\n",
       "      <td>0</td>\n",
       "      <td>1</td>\n",
       "      <td>2018</td>\n",
       "      <td>12</td>\n",
       "      <td>31</td>\n",
       "      <td>1</td>\n",
       "      <td>0</td>\n",
       "      <td>0</td>\n",
       "      <td>0</td>\n",
       "      <td>0</td>\n",
       "      <td>0</td>\n",
       "      <td>1.051911</td>\n",
       "      <td>0.310380</td>\n",
       "      <td>1.051911</td>\n",
       "    </tr>\n",
       "    <tr>\n",
       "      <th>103559</th>\n",
       "      <td>74769</td>\n",
       "      <td>535</td>\n",
       "      <td>1</td>\n",
       "      <td>0</td>\n",
       "      <td>3750.000000</td>\n",
       "      <td>2410.714286</td>\n",
       "      <td>0</td>\n",
       "      <td>1</td>\n",
       "      <td>2018</td>\n",
       "      <td>12</td>\n",
       "      <td>31</td>\n",
       "      <td>1</td>\n",
       "      <td>0</td>\n",
       "      <td>0</td>\n",
       "      <td>0</td>\n",
       "      <td>0</td>\n",
       "      <td>0</td>\n",
       "      <td>0.765008</td>\n",
       "      <td>0.243534</td>\n",
       "      <td>0.765008</td>\n",
       "    </tr>\n",
       "    <tr>\n",
       "      <th>274734</th>\n",
       "      <td>89585</td>\n",
       "      <td>1191</td>\n",
       "      <td>0</td>\n",
       "      <td>0</td>\n",
       "      <td>4449.000000</td>\n",
       "      <td>4004.100000</td>\n",
       "      <td>0</td>\n",
       "      <td>1</td>\n",
       "      <td>2018</td>\n",
       "      <td>12</td>\n",
       "      <td>31</td>\n",
       "      <td>1</td>\n",
       "      <td>0</td>\n",
       "      <td>0</td>\n",
       "      <td>0</td>\n",
       "      <td>0</td>\n",
       "      <td>0</td>\n",
       "      <td>1.086851</td>\n",
       "      <td>0.245080</td>\n",
       "      <td>1.086851</td>\n",
       "    </tr>\n",
       "    <tr>\n",
       "      <th>2531</th>\n",
       "      <td>22956</td>\n",
       "      <td>1191</td>\n",
       "      <td>1</td>\n",
       "      <td>0</td>\n",
       "      <td>4099.000000</td>\n",
       "      <td>3074.250000</td>\n",
       "      <td>0</td>\n",
       "      <td>1</td>\n",
       "      <td>2018</td>\n",
       "      <td>12</td>\n",
       "      <td>31</td>\n",
       "      <td>1</td>\n",
       "      <td>0</td>\n",
       "      <td>0</td>\n",
       "      <td>0</td>\n",
       "      <td>0</td>\n",
       "      <td>0</td>\n",
       "      <td>1.086851</td>\n",
       "      <td>0.245080</td>\n",
       "      <td>1.086851</td>\n",
       "    </tr>\n",
       "  </tbody>\n",
       "</table>\n",
       "<p>172691 rows × 20 columns</p>\n",
       "</div>"
      ],
      "text/plain": [
       "        product_rk  STORE_LOCATION_RK  PROMO1_FLAG  PROMO2_FLAG  \\\n",
       "51670        37553               1005            1            1   \n",
       "249270       34978               1281            1            0   \n",
       "249254       34978               1203            1            0   \n",
       "249237       34978               1191            1            0   \n",
       "249162       34978                866            1            0   \n",
       "...            ...                ...          ...          ...   \n",
       "37754        32814                874            1            0   \n",
       "3447         22962                657            0            0   \n",
       "103559       74769                535            1            0   \n",
       "274734       89585               1191            0            0   \n",
       "2531         22956               1191            1            0   \n",
       "\n",
       "        PRICE_REGULAR  PRICE_AFTER_DISC  NUM_CONSULTANT  AUTORIZATION_FLAG  \\\n",
       "51670     3499.000000       1749.500000               0                  1   \n",
       "249270    3349.000000       1674.500000               0                  1   \n",
       "249254    3134.714286       1567.357143               0                  1   \n",
       "249237    3427.571429       2144.371429               0                  1   \n",
       "249162    3349.000000       1674.500000               0                  1   \n",
       "...               ...               ...             ...                ...   \n",
       "37754     3600.000000       2700.000000               0                  1   \n",
       "3447      3849.000000       2501.850000               0                  1   \n",
       "103559    3750.000000       2410.714286               0                  1   \n",
       "274734    4449.000000       4004.100000               0                  1   \n",
       "2531      4099.000000       3074.250000               0                  1   \n",
       "\n",
       "        years  months  days  week_number  NY  F14  Mar8  Spt1  b_FR  \\\n",
       "51670    2016      12    26           52   1    0     0     0     0   \n",
       "249270   2016      12    26           52   1    0     0     0     0   \n",
       "249254   2016      12    26           52   1    0     0     0     0   \n",
       "249237   2016      12    26           52   1    0     0     0     0   \n",
       "249162   2016      12    26           52   1    0     0     0     0   \n",
       "...       ...     ...   ...          ...  ..  ...   ...   ...   ...   \n",
       "37754    2018      12    31            1   0    0     0     0     0   \n",
       "3447     2018      12    31            1   0    0     0     0     0   \n",
       "103559   2018      12    31            1   0    0     0     0     0   \n",
       "274734   2018      12    31            1   0    0     0     0     0   \n",
       "2531     2018      12    31            1   0    0     0     0     0   \n",
       "\n",
       "        lag_store_54  lag_store_52  lag_store_53  \n",
       "51670       0.369063      0.369063      0.369063  \n",
       "249270      0.678936      0.678936      0.678936  \n",
       "249254      0.312705      0.312705      0.312705  \n",
       "249237      0.276173      0.276173      0.276173  \n",
       "249162      0.353527      0.353527      0.353527  \n",
       "...              ...           ...           ...  \n",
       "37754       0.869504      0.293320      0.869504  \n",
       "3447        1.051911      0.310380      1.051911  \n",
       "103559      0.765008      0.243534      0.765008  \n",
       "274734      1.086851      0.245080      1.086851  \n",
       "2531        1.086851      0.245080      1.086851  \n",
       "\n",
       "[172691 rows x 20 columns]"
      ]
     },
     "execution_count": 128,
     "metadata": {},
     "output_type": "execute_result"
    }
   ],
   "source": [
    "X"
   ]
  },
  {
   "cell_type": "code",
   "execution_count": 122,
   "metadata": {},
   "outputs": [
    {
     "data": {
      "text/plain": [
       "GradientBoostingRegressor(learning_rate=0.01, max_depth=7, n_estimators=500)"
      ]
     },
     "execution_count": 122,
     "metadata": {},
     "output_type": "execute_result"
    }
   ],
   "source": [
    "params = {'n_estimators': 500,\n",
    "          'max_depth': 7,\n",
    "          'min_samples_split': 2,\n",
    "          'learning_rate': 0.01,\n",
    "          'loss': 'ls'}\n",
    "regr = ensemble.GradientBoostingRegressor(**params)\n",
    "regr.fit(X,y)"
   ]
  },
  {
   "cell_type": "code",
   "execution_count": 45,
   "metadata": {},
   "outputs": [],
   "source": [
    "#Hyperparameter tuning and fitting of gradient boosting\n",
    "# regr = GridSearchCV(ensemble.GradientBoostingRegressor(),\n",
    "#                      {\n",
    "#                          'n_estimators':[450,500,600],\n",
    "#                          'max_depth':np.arange(5,7), \n",
    "#                          'min_samples_split':[2,5],\n",
    "#                          'learning_rate':[0.01]\n",
    "#                      }, cv=5,n_jobs=-1,scoring=\"neg_mean_absolute_percentage_error\"\n",
    "# )\n",
    "# regr.fit(X,y)\n",
    "# print('Best training score:', regr.best_score_)\n",
    "# print('Best estimators:', regr.best_estimator_)\n",
    "# best_regr = regr.best_estimator_\n",
    "# print(\"Gradient Boosting test f1 score: \",f1_score(y_test,best_svc.predict(X_test)))"
   ]
  },
  {
   "cell_type": "code",
   "execution_count": null,
   "metadata": {},
   "outputs": [],
   "source": [
    "# pred = model.predict(X_test)\n",
    "# res = pred == y_test\n",
    "# res.astype(int).sum()/len(res)"
   ]
  },
  {
   "cell_type": "code",
   "execution_count": 121,
   "metadata": {},
   "outputs": [
    {
     "data": {
      "text/plain": [
       "0.9915737697284737"
      ]
     },
     "execution_count": 121,
     "metadata": {},
     "output_type": "execute_result"
    }
   ],
   "source": [
    "# from sktime.performance_metrics.forecasting import smape_loss\n",
    "smape_loss = MeanAbsolutePercentageError()\n",
    "y_pred = regr.predict(X_test)\n",
    "for i in range(len(y_pred)):\n",
    "    if y_pred[i] <0:\n",
    "        y_pred[i] = 0\n",
    "y_test = y_test.reset_index()\n",
    "y_test = y_test.drop(columns=['index'])\n",
    "y_test = y_test['demand']\n",
    "y_pred = pd.Series(y_pred)\n",
    "smape_loss(y_pred, y_test)"
   ]
  },
  {
   "cell_type": "code",
   "execution_count": 123,
   "metadata": {},
   "outputs": [],
   "source": [
    "X_res = new_prod2.drop(columns=['id','date'])\n",
    "# kaggle_pred = regr.predict(X_res)\n",
    "kaggle_pred = regr.predict(X_res)\n",
    "for i in range(len(kaggle_pred)):\n",
    "    if kaggle_pred[i] <0:\n",
    "        kaggle_pred[i] = 0"
   ]
  },
  {
   "cell_type": "code",
   "execution_count": 124,
   "metadata": {},
   "outputs": [
    {
     "data": {
      "text/html": [
       "<div>\n",
       "<style scoped>\n",
       "    .dataframe tbody tr th:only-of-type {\n",
       "        vertical-align: middle;\n",
       "    }\n",
       "\n",
       "    .dataframe tbody tr th {\n",
       "        vertical-align: top;\n",
       "    }\n",
       "\n",
       "    .dataframe thead th {\n",
       "        text-align: right;\n",
       "    }\n",
       "</style>\n",
       "<table border=\"1\" class=\"dataframe\">\n",
       "  <thead>\n",
       "    <tr style=\"text-align: right;\">\n",
       "      <th></th>\n",
       "      <th>id</th>\n",
       "      <th>predicted</th>\n",
       "    </tr>\n",
       "  </thead>\n",
       "  <tbody>\n",
       "    <tr>\n",
       "      <th>0</th>\n",
       "      <td>183536</td>\n",
       "      <td>0.408933</td>\n",
       "    </tr>\n",
       "    <tr>\n",
       "      <th>1</th>\n",
       "      <td>234107</td>\n",
       "      <td>0.668460</td>\n",
       "    </tr>\n",
       "    <tr>\n",
       "      <th>2</th>\n",
       "      <td>61585</td>\n",
       "      <td>0.263341</td>\n",
       "    </tr>\n",
       "    <tr>\n",
       "      <th>3</th>\n",
       "      <td>150642</td>\n",
       "      <td>0.287279</td>\n",
       "    </tr>\n",
       "    <tr>\n",
       "      <th>4</th>\n",
       "      <td>95769</td>\n",
       "      <td>0.634314</td>\n",
       "    </tr>\n",
       "    <tr>\n",
       "      <th>...</th>\n",
       "      <td>...</td>\n",
       "      <td>...</td>\n",
       "    </tr>\n",
       "    <tr>\n",
       "      <th>25819</th>\n",
       "      <td>176213</td>\n",
       "      <td>0.601820</td>\n",
       "    </tr>\n",
       "    <tr>\n",
       "      <th>25820</th>\n",
       "      <td>128833</td>\n",
       "      <td>0.241208</td>\n",
       "    </tr>\n",
       "    <tr>\n",
       "      <th>25821</th>\n",
       "      <td>176186</td>\n",
       "      <td>1.595684</td>\n",
       "    </tr>\n",
       "    <tr>\n",
       "      <th>25822</th>\n",
       "      <td>128841</td>\n",
       "      <td>0.242535</td>\n",
       "    </tr>\n",
       "    <tr>\n",
       "      <th>25823</th>\n",
       "      <td>176214</td>\n",
       "      <td>0.663419</td>\n",
       "    </tr>\n",
       "  </tbody>\n",
       "</table>\n",
       "<p>25824 rows × 2 columns</p>\n",
       "</div>"
      ],
      "text/plain": [
       "           id  predicted\n",
       "0      183536   0.408933\n",
       "1      234107   0.668460\n",
       "2       61585   0.263341\n",
       "3      150642   0.287279\n",
       "4       95769   0.634314\n",
       "...       ...        ...\n",
       "25819  176213   0.601820\n",
       "25820  128833   0.241208\n",
       "25821  176186   1.595684\n",
       "25822  128841   0.242535\n",
       "25823  176214   0.663419\n",
       "\n",
       "[25824 rows x 2 columns]"
      ]
     },
     "execution_count": 124,
     "metadata": {},
     "output_type": "execute_result"
    }
   ],
   "source": [
    "id = new_prod2['id'].tolist()\n",
    "dic = {'id':id,'predicted':kaggle_pred}\n",
    "res = pd.DataFrame(dic)\n",
    "res\n",
    "# res.set_index(\"id\", inplace=True)"
   ]
  },
  {
   "cell_type": "code",
   "execution_count": 125,
   "metadata": {},
   "outputs": [
    {
     "data": {
      "text/html": [
       "<div>\n",
       "<style scoped>\n",
       "    .dataframe tbody tr th:only-of-type {\n",
       "        vertical-align: middle;\n",
       "    }\n",
       "\n",
       "    .dataframe tbody tr th {\n",
       "        vertical-align: top;\n",
       "    }\n",
       "\n",
       "    .dataframe thead th {\n",
       "        text-align: right;\n",
       "    }\n",
       "</style>\n",
       "<table border=\"1\" class=\"dataframe\">\n",
       "  <thead>\n",
       "    <tr style=\"text-align: right;\">\n",
       "      <th></th>\n",
       "      <th>id</th>\n",
       "      <th>predicted</th>\n",
       "    </tr>\n",
       "  </thead>\n",
       "  <tbody>\n",
       "    <tr>\n",
       "      <th>0</th>\n",
       "      <td>183536</td>\n",
       "      <td>0.408933</td>\n",
       "    </tr>\n",
       "    <tr>\n",
       "      <th>1</th>\n",
       "      <td>234107</td>\n",
       "      <td>0.668460</td>\n",
       "    </tr>\n",
       "    <tr>\n",
       "      <th>2</th>\n",
       "      <td>61585</td>\n",
       "      <td>0.263341</td>\n",
       "    </tr>\n",
       "    <tr>\n",
       "      <th>3</th>\n",
       "      <td>150642</td>\n",
       "      <td>0.287279</td>\n",
       "    </tr>\n",
       "    <tr>\n",
       "      <th>4</th>\n",
       "      <td>95769</td>\n",
       "      <td>0.634314</td>\n",
       "    </tr>\n",
       "    <tr>\n",
       "      <th>...</th>\n",
       "      <td>...</td>\n",
       "      <td>...</td>\n",
       "    </tr>\n",
       "    <tr>\n",
       "      <th>25819</th>\n",
       "      <td>176213</td>\n",
       "      <td>0.601820</td>\n",
       "    </tr>\n",
       "    <tr>\n",
       "      <th>25820</th>\n",
       "      <td>128833</td>\n",
       "      <td>0.241208</td>\n",
       "    </tr>\n",
       "    <tr>\n",
       "      <th>25821</th>\n",
       "      <td>176186</td>\n",
       "      <td>1.595684</td>\n",
       "    </tr>\n",
       "    <tr>\n",
       "      <th>25822</th>\n",
       "      <td>128841</td>\n",
       "      <td>0.242535</td>\n",
       "    </tr>\n",
       "    <tr>\n",
       "      <th>25823</th>\n",
       "      <td>176214</td>\n",
       "      <td>0.663419</td>\n",
       "    </tr>\n",
       "  </tbody>\n",
       "</table>\n",
       "<p>25824 rows × 2 columns</p>\n",
       "</div>"
      ],
      "text/plain": [
       "           id  predicted\n",
       "0      183536   0.408933\n",
       "1      234107   0.668460\n",
       "2       61585   0.263341\n",
       "3      150642   0.287279\n",
       "4       95769   0.634314\n",
       "...       ...        ...\n",
       "25819  176213   0.601820\n",
       "25820  128833   0.241208\n",
       "25821  176186   1.595684\n",
       "25822  128841   0.242535\n",
       "25823  176214   0.663419\n",
       "\n",
       "[25824 rows x 2 columns]"
      ]
     },
     "execution_count": 125,
     "metadata": {},
     "output_type": "execute_result"
    }
   ],
   "source": [
    "r = res[res['id'].isin(sample['index'])]\n",
    "r\n",
    "# r[r['id']==9]"
   ]
  },
  {
   "cell_type": "code",
   "execution_count": 126,
   "metadata": {},
   "outputs": [
    {
     "name": "stderr",
     "output_type": "stream",
     "text": [
      "100%|██████████| 26605/26605 [00:20<00:00, 1325.21it/s]\n"
     ]
    }
   ],
   "source": [
    "from tqdm import tqdm\n",
    "not_2019 = set(sample[~sample['index'].isin(res['id'])]['index'])\n",
    "\n",
    "d = dict()\n",
    "keys = list(sample['index'])\n",
    "for i in tqdm(keys):\n",
    "    if i in not_2019:\n",
    "        d[i] = list(train_df[train_df['id']==i]['demand'])\n",
    "    else:\n",
    "        d[i] = list(r[r['id']==i]['predicted'])\n"
   ]
  },
  {
   "cell_type": "code",
   "execution_count": 127,
   "metadata": {},
   "outputs": [
    {
     "data": {
      "text/html": [
       "<div>\n",
       "<style scoped>\n",
       "    .dataframe tbody tr th:only-of-type {\n",
       "        vertical-align: middle;\n",
       "    }\n",
       "\n",
       "    .dataframe tbody tr th {\n",
       "        vertical-align: top;\n",
       "    }\n",
       "\n",
       "    .dataframe thead th {\n",
       "        text-align: right;\n",
       "    }\n",
       "</style>\n",
       "<table border=\"1\" class=\"dataframe\">\n",
       "  <thead>\n",
       "    <tr style=\"text-align: right;\">\n",
       "      <th></th>\n",
       "      <th>demand</th>\n",
       "    </tr>\n",
       "    <tr>\n",
       "      <th>index</th>\n",
       "      <th></th>\n",
       "    </tr>\n",
       "  </thead>\n",
       "  <tbody>\n",
       "    <tr>\n",
       "      <th>9</th>\n",
       "      <td>0.779222</td>\n",
       "    </tr>\n",
       "    <tr>\n",
       "      <th>148</th>\n",
       "      <td>0.649584</td>\n",
       "    </tr>\n",
       "    <tr>\n",
       "      <th>214</th>\n",
       "      <td>0.470698</td>\n",
       "    </tr>\n",
       "    <tr>\n",
       "      <th>10</th>\n",
       "      <td>0.387877</td>\n",
       "    </tr>\n",
       "    <tr>\n",
       "      <th>13</th>\n",
       "      <td>0.839962</td>\n",
       "    </tr>\n",
       "    <tr>\n",
       "      <th>...</th>\n",
       "      <td>...</td>\n",
       "    </tr>\n",
       "    <tr>\n",
       "      <th>282317</th>\n",
       "      <td>1.533267</td>\n",
       "    </tr>\n",
       "    <tr>\n",
       "      <th>282318</th>\n",
       "      <td>1.590723</td>\n",
       "    </tr>\n",
       "    <tr>\n",
       "      <th>282319</th>\n",
       "      <td>3.730623</td>\n",
       "    </tr>\n",
       "    <tr>\n",
       "      <th>282320</th>\n",
       "      <td>1.257070</td>\n",
       "    </tr>\n",
       "    <tr>\n",
       "      <th>282321</th>\n",
       "      <td>1.479571</td>\n",
       "    </tr>\n",
       "  </tbody>\n",
       "</table>\n",
       "<p>26605 rows × 1 columns</p>\n",
       "</div>"
      ],
      "text/plain": [
       "          demand\n",
       "index           \n",
       "9       0.779222\n",
       "148     0.649584\n",
       "214     0.470698\n",
       "10      0.387877\n",
       "13      0.839962\n",
       "...          ...\n",
       "282317  1.533267\n",
       "282318  1.590723\n",
       "282319  3.730623\n",
       "282320  1.257070\n",
       "282321  1.479571\n",
       "\n",
       "[26605 rows x 1 columns]"
      ]
     },
     "execution_count": 127,
     "metadata": {},
     "output_type": "execute_result"
    }
   ],
   "source": [
    "sam_res = pd.DataFrame.from_dict(d, orient='index')\n",
    "# sam_res = sam_res.reset_index()\n",
    "sam_res.index.name = 'index'\n",
    "sam_res['demand'] = sam_res[0]\n",
    "sam_res = sam_res.drop(columns=[0])\n",
    "sam_res.to_csv('predicted_demand.csv')\n",
    "sam_res"
   ]
  },
  {
   "cell_type": "code",
   "execution_count": null,
   "metadata": {},
   "outputs": [],
   "source": []
  }
 ],
 "metadata": {
  "kernelspec": {
   "display_name": "Python 3",
   "language": "python",
   "name": "python3"
  },
  "language_info": {
   "codemirror_mode": {
    "name": "ipython",
    "version": 3
   },
   "file_extension": ".py",
   "mimetype": "text/x-python",
   "name": "python",
   "nbconvert_exporter": "python",
   "pygments_lexer": "ipython3",
   "version": "3.8.5"
  }
 },
 "nbformat": 4,
 "nbformat_minor": 4
}
